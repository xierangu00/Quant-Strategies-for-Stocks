{
 "cells": [
  {
   "cell_type": "markdown",
   "metadata": {
    "id": "5iekbB6m8QlO"
   },
   "source": [
    "\n",
    "\n",
    "Import data with Yahoo Finance .\n",
    "\n"
   ]
  },
  {
   "cell_type": "code",
   "execution_count": 1,
   "metadata": {
    "id": "XZ3lfbFRRwgc"
   },
   "outputs": [
    {
     "name": "stdout",
     "output_type": "stream",
     "text": [
      "Requirement already satisfied: yfinance in /opt/anaconda3/envs/myenv/lib/python3.12/site-packages (0.2.43)\n",
      "Requirement already satisfied: pandas>=1.3.0 in /opt/anaconda3/envs/myenv/lib/python3.12/site-packages (from yfinance) (2.2.2)\n",
      "Requirement already satisfied: numpy>=1.16.5 in /opt/anaconda3/envs/myenv/lib/python3.12/site-packages (from yfinance) (1.26.4)\n",
      "Requirement already satisfied: requests>=2.31 in /opt/anaconda3/envs/myenv/lib/python3.12/site-packages (from yfinance) (2.32.3)\n",
      "Requirement already satisfied: multitasking>=0.0.7 in /opt/anaconda3/envs/myenv/lib/python3.12/site-packages (from yfinance) (0.0.9)\n",
      "Requirement already satisfied: lxml>=4.9.1 in /opt/anaconda3/envs/myenv/lib/python3.12/site-packages (from yfinance) (5.2.2)\n",
      "Requirement already satisfied: platformdirs>=2.0.0 in /opt/anaconda3/envs/myenv/lib/python3.12/site-packages (from yfinance) (3.10.0)\n",
      "Requirement already satisfied: pytz>=2022.5 in /opt/anaconda3/envs/myenv/lib/python3.12/site-packages (from yfinance) (2024.1)\n",
      "Requirement already satisfied: frozendict>=2.3.4 in /opt/anaconda3/envs/myenv/lib/python3.12/site-packages (from yfinance) (2.4.4)\n",
      "Requirement already satisfied: peewee>=3.16.2 in /opt/anaconda3/envs/myenv/lib/python3.12/site-packages (from yfinance) (3.17.6)\n",
      "Requirement already satisfied: beautifulsoup4>=4.11.1 in /opt/anaconda3/envs/myenv/lib/python3.12/site-packages (from yfinance) (4.12.3)\n",
      "Requirement already satisfied: html5lib>=1.1 in /opt/anaconda3/envs/myenv/lib/python3.12/site-packages (from yfinance) (1.1)\n",
      "Requirement already satisfied: soupsieve>1.2 in /opt/anaconda3/envs/myenv/lib/python3.12/site-packages (from beautifulsoup4>=4.11.1->yfinance) (2.5)\n",
      "Requirement already satisfied: six>=1.9 in /opt/anaconda3/envs/myenv/lib/python3.12/site-packages (from html5lib>=1.1->yfinance) (1.16.0)\n",
      "Requirement already satisfied: webencodings in /opt/anaconda3/envs/myenv/lib/python3.12/site-packages (from html5lib>=1.1->yfinance) (0.5.1)\n",
      "Requirement already satisfied: python-dateutil>=2.8.2 in /opt/anaconda3/envs/myenv/lib/python3.12/site-packages (from pandas>=1.3.0->yfinance) (2.9.0.post0)\n",
      "Requirement already satisfied: tzdata>=2022.7 in /opt/anaconda3/envs/myenv/lib/python3.12/site-packages (from pandas>=1.3.0->yfinance) (2024.1)\n",
      "Requirement already satisfied: charset-normalizer<4,>=2 in /opt/anaconda3/envs/myenv/lib/python3.12/site-packages (from requests>=2.31->yfinance) (3.3.2)\n",
      "Requirement already satisfied: idna<4,>=2.5 in /opt/anaconda3/envs/myenv/lib/python3.12/site-packages (from requests>=2.31->yfinance) (3.7)\n",
      "Requirement already satisfied: urllib3<3,>=1.21.1 in /opt/anaconda3/envs/myenv/lib/python3.12/site-packages (from requests>=2.31->yfinance) (2.2.2)\n",
      "Requirement already satisfied: certifi>=2017.4.17 in /opt/anaconda3/envs/myenv/lib/python3.12/site-packages (from requests>=2.31->yfinance) (2024.8.30)\n"
     ]
    }
   ],
   "source": [
    "# Installing yfinance package\n",
    "!pip install yfinance"
   ]
  },
  {
   "cell_type": "code",
   "execution_count": 2,
   "metadata": {
    "id": "cmh_wfy9XO39"
   },
   "outputs": [],
   "source": [
    "# Importing necessary libraries\n",
    "import numpy as np\n",
    "import pandas as pd\n",
    "import yfinance as yf\n",
    "from datetime import date\n"
   ]
  },
  {
   "cell_type": "code",
   "execution_count": 3,
   "metadata": {
    "id": "srRXdrezm2PX"
   },
   "outputs": [],
   "source": [
    "\n",
    "# List of ticker symbols\n",
    "tickers = [\"MSFT\"]  # Replace with your desired ticker symbols\n",
    "\n",
    "# Dictionary to store results\n",
    "results = {}\n",
    "\n",
    "# Loop through each ticker and fetch data\n",
    "for ticker_symbol in tickers:\n",
    "    ticker = yf.Ticker(ticker_symbol)\n",
    "    info = ticker.info\n"
   ]
  },
  {
   "cell_type": "code",
   "execution_count": 4,
   "metadata": {
    "colab": {
     "base_uri": "https://localhost:8080/"
    },
    "id": "-7XX9sqjlz_7",
    "outputId": "69895872-641a-4f9d-9a81-743bbb4f081e"
   },
   "outputs": [
    {
     "data": {
      "text/plain": [
       "['address1',\n",
       " 'city',\n",
       " 'state',\n",
       " 'zip',\n",
       " 'country',\n",
       " 'phone',\n",
       " 'website',\n",
       " 'industry',\n",
       " 'industryKey',\n",
       " 'industryDisp',\n",
       " 'sector',\n",
       " 'sectorKey',\n",
       " 'sectorDisp',\n",
       " 'longBusinessSummary',\n",
       " 'fullTimeEmployees',\n",
       " 'companyOfficers',\n",
       " 'auditRisk',\n",
       " 'boardRisk',\n",
       " 'compensationRisk',\n",
       " 'shareHolderRightsRisk',\n",
       " 'overallRisk',\n",
       " 'governanceEpochDate',\n",
       " 'compensationAsOfEpochDate',\n",
       " 'irWebsite',\n",
       " 'maxAge',\n",
       " 'priceHint',\n",
       " 'previousClose',\n",
       " 'open',\n",
       " 'dayLow',\n",
       " 'dayHigh',\n",
       " 'regularMarketPreviousClose',\n",
       " 'regularMarketOpen',\n",
       " 'regularMarketDayLow',\n",
       " 'regularMarketDayHigh',\n",
       " 'dividendRate',\n",
       " 'dividendYield',\n",
       " 'exDividendDate',\n",
       " 'payoutRatio',\n",
       " 'fiveYearAvgDividendYield',\n",
       " 'beta',\n",
       " 'trailingPE',\n",
       " 'forwardPE',\n",
       " 'volume',\n",
       " 'regularMarketVolume',\n",
       " 'averageVolume',\n",
       " 'averageVolume10days',\n",
       " 'averageDailyVolume10Day',\n",
       " 'bid',\n",
       " 'ask',\n",
       " 'bidSize',\n",
       " 'askSize',\n",
       " 'marketCap',\n",
       " 'fiftyTwoWeekLow',\n",
       " 'fiftyTwoWeekHigh',\n",
       " 'priceToSalesTrailing12Months',\n",
       " 'fiftyDayAverage',\n",
       " 'twoHundredDayAverage',\n",
       " 'currency',\n",
       " 'enterpriseValue',\n",
       " 'profitMargins',\n",
       " 'floatShares',\n",
       " 'sharesOutstanding',\n",
       " 'sharesShort',\n",
       " 'sharesShortPriorMonth',\n",
       " 'sharesShortPreviousMonthDate',\n",
       " 'dateShortInterest',\n",
       " 'sharesPercentSharesOut',\n",
       " 'heldPercentInsiders',\n",
       " 'heldPercentInstitutions',\n",
       " 'shortRatio',\n",
       " 'shortPercentOfFloat',\n",
       " 'impliedSharesOutstanding',\n",
       " 'bookValue',\n",
       " 'priceToBook',\n",
       " 'lastFiscalYearEnd',\n",
       " 'nextFiscalYearEnd',\n",
       " 'mostRecentQuarter',\n",
       " 'earningsQuarterlyGrowth',\n",
       " 'netIncomeToCommon',\n",
       " 'trailingEps',\n",
       " 'forwardEps',\n",
       " 'lastSplitFactor',\n",
       " 'lastSplitDate',\n",
       " 'enterpriseToRevenue',\n",
       " 'enterpriseToEbitda',\n",
       " '52WeekChange',\n",
       " 'SandP52WeekChange',\n",
       " 'lastDividendValue',\n",
       " 'lastDividendDate',\n",
       " 'exchange',\n",
       " 'quoteType',\n",
       " 'symbol',\n",
       " 'underlyingSymbol',\n",
       " 'shortName',\n",
       " 'longName',\n",
       " 'firstTradeDateEpochUtc',\n",
       " 'timeZoneFullName',\n",
       " 'timeZoneShortName',\n",
       " 'uuid',\n",
       " 'messageBoardId',\n",
       " 'gmtOffSetMilliseconds',\n",
       " 'currentPrice',\n",
       " 'targetHighPrice',\n",
       " 'targetLowPrice',\n",
       " 'targetMeanPrice',\n",
       " 'targetMedianPrice',\n",
       " 'recommendationMean',\n",
       " 'recommendationKey',\n",
       " 'numberOfAnalystOpinions',\n",
       " 'totalCash',\n",
       " 'totalCashPerShare',\n",
       " 'ebitda',\n",
       " 'totalDebt',\n",
       " 'quickRatio',\n",
       " 'currentRatio',\n",
       " 'totalRevenue',\n",
       " 'debtToEquity',\n",
       " 'revenuePerShare',\n",
       " 'returnOnAssets',\n",
       " 'returnOnEquity',\n",
       " 'grossProfits',\n",
       " 'freeCashflow',\n",
       " 'operatingCashflow',\n",
       " 'earningsGrowth',\n",
       " 'revenueGrowth',\n",
       " 'grossMargins',\n",
       " 'ebitdaMargins',\n",
       " 'operatingMargins',\n",
       " 'financialCurrency',\n",
       " 'trailingPegRatio']"
      ]
     },
     "execution_count": 4,
     "metadata": {},
     "output_type": "execute_result"
    }
   ],
   "source": [
    "# Fetch data using yfinance\n",
    "info_keys = list(info.keys())\n",
    "\n",
    "info_keys"
   ]
  },
  {
   "cell_type": "code",
   "execution_count": 5,
   "metadata": {
    "colab": {
     "base_uri": "https://localhost:8080/",
     "height": 206
    },
    "id": "TSGaFK3XrjE-",
    "outputId": "2babe9d5-3273-43c1-f07f-2d9c464a9712"
   },
   "outputs": [
    {
     "data": {
      "text/html": [
       "<div>\n",
       "<style scoped>\n",
       "    .dataframe tbody tr th:only-of-type {\n",
       "        vertical-align: middle;\n",
       "    }\n",
       "\n",
       "    .dataframe tbody tr th {\n",
       "        vertical-align: top;\n",
       "    }\n",
       "\n",
       "    .dataframe thead th {\n",
       "        text-align: right;\n",
       "    }\n",
       "</style>\n",
       "<table border=\"1\" class=\"dataframe\">\n",
       "  <thead>\n",
       "    <tr style=\"text-align: right;\">\n",
       "      <th></th>\n",
       "      <th>trailingPE</th>\n",
       "      <th>forwardPE</th>\n",
       "      <th>priceToBook</th>\n",
       "    </tr>\n",
       "  </thead>\n",
       "  <tbody>\n",
       "    <tr>\n",
       "      <th>MSFT</th>\n",
       "      <td>33.460580</td>\n",
       "      <td>27.649769</td>\n",
       "      <td>11.516406</td>\n",
       "    </tr>\n",
       "    <tr>\n",
       "      <th>CFG</th>\n",
       "      <td>16.064356</td>\n",
       "      <td>9.818754</td>\n",
       "      <td>0.949645</td>\n",
       "    </tr>\n",
       "    <tr>\n",
       "      <th>PBA</th>\n",
       "      <td>16.245615</td>\n",
       "      <td>11.983099</td>\n",
       "      <td>1.448516</td>\n",
       "    </tr>\n",
       "    <tr>\n",
       "      <th>MHK</th>\n",
       "      <td>14.307779</td>\n",
       "      <td>11.962417</td>\n",
       "      <td>1.020193</td>\n",
       "    </tr>\n",
       "    <tr>\n",
       "      <th>DUK</th>\n",
       "      <td>20.115593</td>\n",
       "      <td>17.728447</td>\n",
       "      <td>1.799288</td>\n",
       "    </tr>\n",
       "  </tbody>\n",
       "</table>\n",
       "</div>"
      ],
      "text/plain": [
       "      trailingPE  forwardPE  priceToBook\n",
       "MSFT   33.460580  27.649769    11.516406\n",
       "CFG    16.064356   9.818754     0.949645\n",
       "PBA    16.245615  11.983099     1.448516\n",
       "MHK    14.307779  11.962417     1.020193\n",
       "DUK    20.115593  17.728447     1.799288"
      ]
     },
     "execution_count": 5,
     "metadata": {},
     "output_type": "execute_result"
    }
   ],
   "source": [
    "import yfinance as yf\n",
    "\n",
    "# List of ticker symbols\n",
    "tickers = [\"MSFT\", \"CFG\", \"PBA\", \"MHK\", \"DUK\"]  # Replace with your desired ticker symbols\n",
    "\n",
    "# List of variables to fetch\n",
    "variables = [\"trailingPE\", \"forwardPE\", \"priceToBook\"]  # Add more variables as needed\n",
    "\n",
    "# Dictionary to store results\n",
    "results = {}\n",
    "\n",
    "# Loop through each ticker and fetch data\n",
    "for ticker_symbol in tickers:\n",
    "    ticker = yf.Ticker(ticker_symbol)\n",
    "    info = ticker.info\n",
    "\n",
    "    # Extract specified variables and save them in a dictionary\n",
    "    results[ticker_symbol] = {var: info.get(var) for var in variables}\n",
    "\n",
    "# Display the results\n",
    "df = pd.DataFrame.from_dict(results, orient=\"index\")\n",
    "df"
   ]
  },
  {
   "cell_type": "code",
   "execution_count": 6,
   "metadata": {
    "colab": {
     "base_uri": "https://localhost:8080/"
    },
    "id": "C0PX8xooemSt",
    "outputId": "36cb4316-6c91-4d14-b038-ed4323ba8393"
   },
   "outputs": [
    {
     "data": {
      "text/plain": [
       "['MSFT', 'CFG', 'PBA', 'MHK', 'DUK']"
      ]
     },
     "execution_count": 6,
     "metadata": {},
     "output_type": "execute_result"
    }
   ],
   "source": [
    "tickers"
   ]
  },
  {
   "cell_type": "code",
   "execution_count": 7,
   "metadata": {
    "colab": {
     "base_uri": "https://localhost:8080/",
     "height": 206
    },
    "id": "-Bv9hJwhvqx4",
    "outputId": "7885db4f-a7cb-4d31-8582-50e7991c923f"
   },
   "outputs": [
    {
     "data": {
      "text/html": [
       "<div>\n",
       "<style scoped>\n",
       "    .dataframe tbody tr th:only-of-type {\n",
       "        vertical-align: middle;\n",
       "    }\n",
       "\n",
       "    .dataframe tbody tr th {\n",
       "        vertical-align: top;\n",
       "    }\n",
       "\n",
       "    .dataframe thead th {\n",
       "        text-align: right;\n",
       "    }\n",
       "</style>\n",
       "<table border=\"1\" class=\"dataframe\">\n",
       "  <thead>\n",
       "    <tr style=\"text-align: right;\">\n",
       "      <th></th>\n",
       "      <th>trailingPE</th>\n",
       "      <th>forwardPE</th>\n",
       "      <th>priceToBook</th>\n",
       "      <th>trailingPegRatio</th>\n",
       "      <th>returnOnEquity</th>\n",
       "      <th>g_expected</th>\n",
       "    </tr>\n",
       "  </thead>\n",
       "  <tbody>\n",
       "    <tr>\n",
       "      <th>MSFT</th>\n",
       "      <td>33.459370</td>\n",
       "      <td>27.648770</td>\n",
       "      <td>11.515990</td>\n",
       "      <td>2.3451</td>\n",
       "      <td>0.35604</td>\n",
       "      <td>14.267780</td>\n",
       "    </tr>\n",
       "    <tr>\n",
       "      <th>CFG</th>\n",
       "      <td>16.064356</td>\n",
       "      <td>9.818754</td>\n",
       "      <td>0.949645</td>\n",
       "      <td>NaN</td>\n",
       "      <td>0.05426</td>\n",
       "      <td>NaN</td>\n",
       "    </tr>\n",
       "    <tr>\n",
       "      <th>PBA</th>\n",
       "      <td>16.245615</td>\n",
       "      <td>11.983099</td>\n",
       "      <td>1.448516</td>\n",
       "      <td>NaN</td>\n",
       "      <td>0.12249</td>\n",
       "      <td>NaN</td>\n",
       "    </tr>\n",
       "    <tr>\n",
       "      <th>MHK</th>\n",
       "      <td>14.307779</td>\n",
       "      <td>11.962417</td>\n",
       "      <td>1.020193</td>\n",
       "      <td>NaN</td>\n",
       "      <td>0.07457</td>\n",
       "      <td>NaN</td>\n",
       "    </tr>\n",
       "    <tr>\n",
       "      <th>DUK</th>\n",
       "      <td>20.119175</td>\n",
       "      <td>17.731606</td>\n",
       "      <td>1.799609</td>\n",
       "      <td>2.7774</td>\n",
       "      <td>0.08837</td>\n",
       "      <td>7.243888</td>\n",
       "    </tr>\n",
       "  </tbody>\n",
       "</table>\n",
       "</div>"
      ],
      "text/plain": [
       "      trailingPE  forwardPE  priceToBook  trailingPegRatio  returnOnEquity  \\\n",
       "MSFT   33.459370  27.648770    11.515990            2.3451         0.35604   \n",
       "CFG    16.064356   9.818754     0.949645               NaN         0.05426   \n",
       "PBA    16.245615  11.983099     1.448516               NaN         0.12249   \n",
       "MHK    14.307779  11.962417     1.020193               NaN         0.07457   \n",
       "DUK    20.119175  17.731606     1.799609            2.7774         0.08837   \n",
       "\n",
       "      g_expected  \n",
       "MSFT   14.267780  \n",
       "CFG          NaN  \n",
       "PBA          NaN  \n",
       "MHK          NaN  \n",
       "DUK     7.243888  "
      ]
     },
     "execution_count": 7,
     "metadata": {},
     "output_type": "execute_result"
    }
   ],
   "source": [
    "import yfinance as yf\n",
    "\n",
    "# List of variables to fetch\n",
    "variables = [\"trailingPE\", \"forwardPE\", \"priceToBook\", \"trailingPegRatio\", \"returnOnEquity\"]  # Add more variables as needed\n",
    "\n",
    "# trailingPegRatio = trailingPE / g:  'g' is the average of sell-side analysts' growth forecasts over the next three to five years. Not directly availble through yfinance\n",
    "# Dictionary to store results\n",
    "results = {}\n",
    "\n",
    "# Loop through each ticker and fetch data\n",
    "for ticker_symbol in tickers:\n",
    "    ticker = yf.Ticker(ticker_symbol)\n",
    "    info = ticker.info\n",
    "\n",
    "    # Extract specified variables and save them in a dictionary\n",
    "    results[ticker_symbol] = {var: info.get(var) for var in variables}\n",
    "\n",
    "# Display the results\n",
    "df = pd.DataFrame.from_dict(results, orient=\"index\")\n",
    "\n",
    "df[\"g_expected\"] = df['trailingPE'] / df['trailingPegRatio'] # g = PE/PEG\n",
    "df"
   ]
  }
 ],
 "metadata": {
  "colab": {
   "provenance": []
  },
  "kernelspec": {
   "display_name": "Python 3 (ipykernel)",
   "language": "python",
   "name": "python3"
  },
  "language_info": {
   "codemirror_mode": {
    "name": "ipython",
    "version": 3
   },
   "file_extension": ".py",
   "mimetype": "text/x-python",
   "name": "python",
   "nbconvert_exporter": "python",
   "pygments_lexer": "ipython3",
   "version": "3.12.2"
  }
 },
 "nbformat": 4,
 "nbformat_minor": 4
}
