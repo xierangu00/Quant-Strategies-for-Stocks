{
 "cells": [
  {
   "cell_type": "markdown",
   "metadata": {
    "id": "5iekbB6m8QlO"
   },
   "source": [
    "**Lecture 2**\n",
    "\n",
    "Computes Sharpe ratio for long and Long/Short portfolios.\n",
    "\n",
    "\n"
   ]
  },
  {
   "cell_type": "markdown",
   "metadata": {
    "id": "copIE672OAWY"
   },
   "source": [
    "**Data Description**\n",
    "\n",
    "Important Dataframes\n",
    "\n",
    "1.  \"Returns\" dataframe : Input time series of portfolio returns.\n",
    "\n",
    "Input file : \"b2m_monthlyReturns.csv\", created by \"Lec2_B2m.ipynb\"\n",
    "\n",
    "\n",
    "2.   \"Risk_freeRate\" dataframe : Input time series of risk-free returns.\n",
    "\n",
    "Input file : \"Market_Riskfree.csv\"\n",
    "\n",
    "\n",
    "\n",
    "\n",
    "\n"
   ]
  },
  {
   "cell_type": "code",
   "execution_count": 1,
   "metadata": {
    "id": "2a7sxymZTL7X"
   },
   "outputs": [],
   "source": [
    "# Importing Necessary Python Libraries\n",
    "import pandas as pd\n",
    "import numpy as np"
   ]
  },
  {
   "cell_type": "code",
   "execution_count": 2,
   "metadata": {
    "colab": {
     "base_uri": "https://localhost:8080/",
     "height": 424
    },
    "id": "746SXhvElbaD",
    "outputId": "9637edc6-1b62-4bc8-a6fb-654d4894b0f2"
   },
   "outputs": [
    {
     "data": {
      "text/html": [
       "<div>\n",
       "<style scoped>\n",
       "    .dataframe tbody tr th:only-of-type {\n",
       "        vertical-align: middle;\n",
       "    }\n",
       "\n",
       "    .dataframe tbody tr th {\n",
       "        vertical-align: top;\n",
       "    }\n",
       "\n",
       "    .dataframe thead th {\n",
       "        text-align: right;\n",
       "    }\n",
       "</style>\n",
       "<table border=\"1\" class=\"dataframe\">\n",
       "  <thead>\n",
       "    <tr style=\"text-align: right;\">\n",
       "      <th></th>\n",
       "      <th>year</th>\n",
       "      <th>month</th>\n",
       "      <th>rank</th>\n",
       "      <th>RET</th>\n",
       "    </tr>\n",
       "  </thead>\n",
       "  <tbody>\n",
       "    <tr>\n",
       "      <th>0</th>\n",
       "      <td>1990</td>\n",
       "      <td>11</td>\n",
       "      <td>0</td>\n",
       "      <td>-0.044314</td>\n",
       "    </tr>\n",
       "    <tr>\n",
       "      <th>1</th>\n",
       "      <td>1990</td>\n",
       "      <td>11</td>\n",
       "      <td>1</td>\n",
       "      <td>0.100973</td>\n",
       "    </tr>\n",
       "    <tr>\n",
       "      <th>2</th>\n",
       "      <td>1990</td>\n",
       "      <td>11</td>\n",
       "      <td>2</td>\n",
       "      <td>0.076269</td>\n",
       "    </tr>\n",
       "    <tr>\n",
       "      <th>3</th>\n",
       "      <td>1990</td>\n",
       "      <td>11</td>\n",
       "      <td>3</td>\n",
       "      <td>0.084393</td>\n",
       "    </tr>\n",
       "    <tr>\n",
       "      <th>4</th>\n",
       "      <td>1990</td>\n",
       "      <td>11</td>\n",
       "      <td>4</td>\n",
       "      <td>0.069258</td>\n",
       "    </tr>\n",
       "    <tr>\n",
       "      <th>...</th>\n",
       "      <td>...</td>\n",
       "      <td>...</td>\n",
       "      <td>...</td>\n",
       "      <td>...</td>\n",
       "    </tr>\n",
       "    <tr>\n",
       "      <th>4373</th>\n",
       "      <td>2023</td>\n",
       "      <td>12</td>\n",
       "      <td>6</td>\n",
       "      <td>0.127078</td>\n",
       "    </tr>\n",
       "    <tr>\n",
       "      <th>4374</th>\n",
       "      <td>2023</td>\n",
       "      <td>12</td>\n",
       "      <td>7</td>\n",
       "      <td>0.129179</td>\n",
       "    </tr>\n",
       "    <tr>\n",
       "      <th>4375</th>\n",
       "      <td>2023</td>\n",
       "      <td>12</td>\n",
       "      <td>8</td>\n",
       "      <td>0.153965</td>\n",
       "    </tr>\n",
       "    <tr>\n",
       "      <th>4376</th>\n",
       "      <td>2023</td>\n",
       "      <td>12</td>\n",
       "      <td>9</td>\n",
       "      <td>0.168273</td>\n",
       "    </tr>\n",
       "    <tr>\n",
       "      <th>4377</th>\n",
       "      <td>2023</td>\n",
       "      <td>12</td>\n",
       "      <td>diff</td>\n",
       "      <td>0.076725</td>\n",
       "    </tr>\n",
       "  </tbody>\n",
       "</table>\n",
       "<p>4378 rows × 4 columns</p>\n",
       "</div>"
      ],
      "text/plain": [
       "      year  month  rank       RET\n",
       "0     1990     11     0 -0.044314\n",
       "1     1990     11     1  0.100973\n",
       "2     1990     11     2  0.076269\n",
       "3     1990     11     3  0.084393\n",
       "4     1990     11     4  0.069258\n",
       "...    ...    ...   ...       ...\n",
       "4373  2023     12     6  0.127078\n",
       "4374  2023     12     7  0.129179\n",
       "4375  2023     12     8  0.153965\n",
       "4376  2023     12     9  0.168273\n",
       "4377  2023     12  diff  0.076725\n",
       "\n",
       "[4378 rows x 4 columns]"
      ]
     },
     "execution_count": 2,
     "metadata": {},
     "output_type": "execute_result"
    }
   ],
   "source": [
    "#Portfolio Returns Data\n",
    "Returns = pd.read_csv(\"teacherfile.csv\") #b2m decile portfolio returns created by Lec2_B2m.ipynb\n",
    "Returns"
   ]
  },
  {
   "cell_type": "code",
   "execution_count": 4,
   "metadata": {
    "colab": {
     "base_uri": "https://localhost:8080/",
     "height": 424
    },
    "id": "OAC2AmkIWHks",
    "outputId": "a8a23859-62a6-4da3-8993-0fcb6d2ab336"
   },
   "outputs": [
    {
     "data": {
      "text/html": [
       "<div>\n",
       "<style scoped>\n",
       "    .dataframe tbody tr th:only-of-type {\n",
       "        vertical-align: middle;\n",
       "    }\n",
       "\n",
       "    .dataframe tbody tr th {\n",
       "        vertical-align: top;\n",
       "    }\n",
       "\n",
       "    .dataframe thead th {\n",
       "        text-align: right;\n",
       "    }\n",
       "</style>\n",
       "<table border=\"1\" class=\"dataframe\">\n",
       "  <thead>\n",
       "    <tr style=\"text-align: right;\">\n",
       "      <th></th>\n",
       "      <th>year</th>\n",
       "      <th>month</th>\n",
       "      <th>Market</th>\n",
       "      <th>RiskfreeRate</th>\n",
       "    </tr>\n",
       "  </thead>\n",
       "  <tbody>\n",
       "    <tr>\n",
       "      <th>0</th>\n",
       "      <td>1926</td>\n",
       "      <td>7</td>\n",
       "      <td>0.0318</td>\n",
       "      <td>0.0022</td>\n",
       "    </tr>\n",
       "    <tr>\n",
       "      <th>1</th>\n",
       "      <td>1926</td>\n",
       "      <td>8</td>\n",
       "      <td>0.0289</td>\n",
       "      <td>0.0025</td>\n",
       "    </tr>\n",
       "    <tr>\n",
       "      <th>2</th>\n",
       "      <td>1926</td>\n",
       "      <td>9</td>\n",
       "      <td>0.0059</td>\n",
       "      <td>0.0023</td>\n",
       "    </tr>\n",
       "    <tr>\n",
       "      <th>3</th>\n",
       "      <td>1926</td>\n",
       "      <td>10</td>\n",
       "      <td>-0.0292</td>\n",
       "      <td>0.0032</td>\n",
       "    </tr>\n",
       "    <tr>\n",
       "      <th>4</th>\n",
       "      <td>1926</td>\n",
       "      <td>11</td>\n",
       "      <td>0.0284</td>\n",
       "      <td>0.0031</td>\n",
       "    </tr>\n",
       "    <tr>\n",
       "      <th>...</th>\n",
       "      <td>...</td>\n",
       "      <td>...</td>\n",
       "      <td>...</td>\n",
       "      <td>...</td>\n",
       "    </tr>\n",
       "    <tr>\n",
       "      <th>1165</th>\n",
       "      <td>2023</td>\n",
       "      <td>8</td>\n",
       "      <td>-0.0194</td>\n",
       "      <td>0.0045</td>\n",
       "    </tr>\n",
       "    <tr>\n",
       "      <th>1166</th>\n",
       "      <td>2023</td>\n",
       "      <td>9</td>\n",
       "      <td>-0.0481</td>\n",
       "      <td>0.0043</td>\n",
       "    </tr>\n",
       "    <tr>\n",
       "      <th>1167</th>\n",
       "      <td>2023</td>\n",
       "      <td>10</td>\n",
       "      <td>-0.0272</td>\n",
       "      <td>0.0047</td>\n",
       "    </tr>\n",
       "    <tr>\n",
       "      <th>1168</th>\n",
       "      <td>2023</td>\n",
       "      <td>11</td>\n",
       "      <td>0.0928</td>\n",
       "      <td>0.0044</td>\n",
       "    </tr>\n",
       "    <tr>\n",
       "      <th>1169</th>\n",
       "      <td>2023</td>\n",
       "      <td>12</td>\n",
       "      <td>0.0400</td>\n",
       "      <td>0.0044</td>\n",
       "    </tr>\n",
       "  </tbody>\n",
       "</table>\n",
       "<p>1170 rows × 4 columns</p>\n",
       "</div>"
      ],
      "text/plain": [
       "      year  month  Market  RiskfreeRate\n",
       "0     1926      7  0.0318        0.0022\n",
       "1     1926      8  0.0289        0.0025\n",
       "2     1926      9  0.0059        0.0023\n",
       "3     1926     10 -0.0292        0.0032\n",
       "4     1926     11  0.0284        0.0031\n",
       "...    ...    ...     ...           ...\n",
       "1165  2023      8 -0.0194        0.0045\n",
       "1166  2023      9 -0.0481        0.0043\n",
       "1167  2023     10 -0.0272        0.0047\n",
       "1168  2023     11  0.0928        0.0044\n",
       "1169  2023     12  0.0400        0.0044\n",
       "\n",
       "[1170 rows x 4 columns]"
      ]
     },
     "execution_count": 4,
     "metadata": {},
     "output_type": "execute_result"
    }
   ],
   "source": [
    "#Risk-Free rate\n",
    "\n",
    "# Importing market return and risk free rate. \"Market\" is the return on market cap-weighted return of all stocks on US exchanges, and \"RiskfreeRate\" is the return on one-month Treasury Bill\n",
    "Risk_freeRate_market = pd.read_csv('Market_Riskfree_2312_copy.csv')     # read risk-free rate and market returns\n",
    "                                                                                              #\"Market\" is returns on the market-cap weighted index of all US stocks - \"vwretd\" in CRSP\n",
    "Risk_freeRate_market"
   ]
  },
  {
   "cell_type": "code",
   "execution_count": 5,
   "metadata": {
    "colab": {
     "base_uri": "https://localhost:8080/"
    },
    "id": "3LW-piNWXDxC",
    "outputId": "20b6eee9-6986-407e-a749-156d3dbd4aed"
   },
   "outputs": [
    {
     "name": "stdout",
     "output_type": "stream",
     "text": [
      "rank= 0 Sharpe_ratio_annual= 0.2225130566317897\n",
      "rank= 1 Sharpe_ratio_annual= 0.3124660906095804\n",
      "rank= 2 Sharpe_ratio_annual= 0.4147754497075495\n",
      "rank= 3 Sharpe_ratio_annual= 0.4522291222540835\n",
      "rank= 4 Sharpe_ratio_annual= 0.47932587573516167\n",
      "rank= 5 Sharpe_ratio_annual= 0.5695288054205602\n",
      "rank= 6 Sharpe_ratio_annual= 0.5727074529948248\n",
      "rank= 7 Sharpe_ratio_annual= 0.6406118994675196\n",
      "rank= 8 Sharpe_ratio_annual= 0.650444498132192\n",
      "rank= 9 Sharpe_ratio_annual= 0.5055673904179667\n"
     ]
    }
   ],
   "source": [
    "# Merge risk free data to market returns data\n",
    "merge_data = pd.merge(Returns, Risk_freeRate_market, how = \"inner\", on = ['year', 'month'])\n",
    "merge_data['excessReturn'] = merge_data['RET'] - merge_data['RiskfreeRate']\n",
    "\n",
    "# Annualized Sharpe Ratio calculation for each decile portfolio\n",
    "for rank in range(10):                                                          # Note: portfolio 'diff' is a long/short portfolio.\n",
    "  df = merge_data.loc[merge_data['rank'] == str(rank)]                          #select portfolio with decile rank ==rank\n",
    "  Sharpe_ratio_monthly =  df['excessReturn'].mean()/df['excessReturn'].std()     #Sharpe ratio = mean excess return/standard deviation of excess return\n",
    "  Sharpe_ratio_annual = np.sqrt(12) * df['excessReturn'].mean()/df['excessReturn'].std()     #Sharpe ratio_annual =  sqrt(12) * Sharpe_ratio_monthly\n",
    "  print('rank=', rank, 'Sharpe_ratio_annual=', Sharpe_ratio_annual)\n"
   ]
  },
  {
   "cell_type": "code",
   "execution_count": 6,
   "metadata": {
    "colab": {
     "base_uri": "https://localhost:8080/",
     "height": 424
    },
    "id": "yicPJuYxPpRL",
    "outputId": "47cdfa81-12f0-4bbc-f5e2-9e179de62865"
   },
   "outputs": [
    {
     "data": {
      "text/html": [
       "<div>\n",
       "<style scoped>\n",
       "    .dataframe tbody tr th:only-of-type {\n",
       "        vertical-align: middle;\n",
       "    }\n",
       "\n",
       "    .dataframe tbody tr th {\n",
       "        vertical-align: top;\n",
       "    }\n",
       "\n",
       "    .dataframe thead th {\n",
       "        text-align: right;\n",
       "    }\n",
       "</style>\n",
       "<table border=\"1\" class=\"dataframe\">\n",
       "  <thead>\n",
       "    <tr style=\"text-align: right;\">\n",
       "      <th></th>\n",
       "      <th>year</th>\n",
       "      <th>month</th>\n",
       "      <th>rank</th>\n",
       "      <th>RET</th>\n",
       "    </tr>\n",
       "  </thead>\n",
       "  <tbody>\n",
       "    <tr>\n",
       "      <th>10</th>\n",
       "      <td>1990</td>\n",
       "      <td>11</td>\n",
       "      <td>diff</td>\n",
       "      <td>0.041363</td>\n",
       "    </tr>\n",
       "    <tr>\n",
       "      <th>21</th>\n",
       "      <td>1990</td>\n",
       "      <td>12</td>\n",
       "      <td>diff</td>\n",
       "      <td>-0.020667</td>\n",
       "    </tr>\n",
       "    <tr>\n",
       "      <th>32</th>\n",
       "      <td>1991</td>\n",
       "      <td>1</td>\n",
       "      <td>diff</td>\n",
       "      <td>-0.015697</td>\n",
       "    </tr>\n",
       "    <tr>\n",
       "      <th>43</th>\n",
       "      <td>1991</td>\n",
       "      <td>2</td>\n",
       "      <td>diff</td>\n",
       "      <td>0.045938</td>\n",
       "    </tr>\n",
       "    <tr>\n",
       "      <th>54</th>\n",
       "      <td>1991</td>\n",
       "      <td>3</td>\n",
       "      <td>diff</td>\n",
       "      <td>-0.003295</td>\n",
       "    </tr>\n",
       "    <tr>\n",
       "      <th>...</th>\n",
       "      <td>...</td>\n",
       "      <td>...</td>\n",
       "      <td>...</td>\n",
       "      <td>...</td>\n",
       "    </tr>\n",
       "    <tr>\n",
       "      <th>4333</th>\n",
       "      <td>2023</td>\n",
       "      <td>8</td>\n",
       "      <td>diff</td>\n",
       "      <td>0.020492</td>\n",
       "    </tr>\n",
       "    <tr>\n",
       "      <th>4344</th>\n",
       "      <td>2023</td>\n",
       "      <td>9</td>\n",
       "      <td>diff</td>\n",
       "      <td>-0.000822</td>\n",
       "    </tr>\n",
       "    <tr>\n",
       "      <th>4355</th>\n",
       "      <td>2023</td>\n",
       "      <td>10</td>\n",
       "      <td>diff</td>\n",
       "      <td>-0.027637</td>\n",
       "    </tr>\n",
       "    <tr>\n",
       "      <th>4366</th>\n",
       "      <td>2023</td>\n",
       "      <td>11</td>\n",
       "      <td>diff</td>\n",
       "      <td>0.030330</td>\n",
       "    </tr>\n",
       "    <tr>\n",
       "      <th>4377</th>\n",
       "      <td>2023</td>\n",
       "      <td>12</td>\n",
       "      <td>diff</td>\n",
       "      <td>0.076725</td>\n",
       "    </tr>\n",
       "  </tbody>\n",
       "</table>\n",
       "<p>398 rows × 4 columns</p>\n",
       "</div>"
      ],
      "text/plain": [
       "      year  month  rank       RET\n",
       "10    1990     11  diff  0.041363\n",
       "21    1990     12  diff -0.020667\n",
       "32    1991      1  diff -0.015697\n",
       "43    1991      2  diff  0.045938\n",
       "54    1991      3  diff -0.003295\n",
       "...    ...    ...   ...       ...\n",
       "4333  2023      8  diff  0.020492\n",
       "4344  2023      9  diff -0.000822\n",
       "4355  2023     10  diff -0.027637\n",
       "4366  2023     11  diff  0.030330\n",
       "4377  2023     12  diff  0.076725\n",
       "\n",
       "[398 rows x 4 columns]"
      ]
     },
     "execution_count": 6,
     "metadata": {},
     "output_type": "execute_result"
    }
   ],
   "source": [
    "# Extract Long-Short Portfolio\n",
    "Diff_ret = Returns.loc[Returns['rank'] == 'diff' ]\n",
    "Diff_ret"
   ]
  },
  {
   "cell_type": "code",
   "execution_count": 7,
   "metadata": {
    "colab": {
     "base_uri": "https://localhost:8080/"
    },
    "id": "lbwKjzaM1Tv6",
    "outputId": "fa875c12-08f0-46b1-a8b7-d1c44aa466d5"
   },
   "outputs": [
    {
     "data": {
      "text/plain": [
       "(0.13548550340753476, 0.4693355511817929)"
      ]
     },
     "execution_count": 7,
     "metadata": {},
     "output_type": "execute_result"
    }
   ],
   "source": [
    "# Monthly and Annualized Sharpe Ratio for Long-Short Portfolio\n",
    "Sharpe_diff_monthly = Diff_ret['RET'].mean()/Diff_ret['RET'].std()\n",
    "Sharpe_diff_annual = np.sqrt(12) * Sharpe_diff_monthly\n",
    "Sharpe_diff_monthly, Sharpe_diff_annual"
   ]
  },
  {
   "cell_type": "code",
   "execution_count": null,
   "metadata": {
    "colab": {
     "base_uri": "https://localhost:8080/"
    },
    "id": "33BTTnXr5yfo",
    "outputId": "249f1aa0-c292-49b6-9c1c-0bc3d5442167"
   },
   "outputs": [
    {
     "data": {
      "text/plain": [
       "0.022996276736697657"
      ]
     },
     "execution_count": 8,
     "metadata": {},
     "output_type": "execute_result"
    }
   ],
   "source": [
    "# Create excess returns for 130/30 portfolio or 130 long in portfolio 9 and 30 short in portfolio 0\n",
    "merge_data.set_index(['year', 'month'], inplace = True)\n",
    "rank_9 = merge_data['excessReturn'][ merge_data['rank'] == '9'].copy()          #Monthly returns series for decile portfolio 9\n",
    "rank_0 = merge_data['excessReturn'][ merge_data['rank'] == '0'].copy()          #Monthly returns series for decile portfolio 0\n",
    "ret_130_30 = 1.3* rank_9 - 0.3* rank_0                                          #Monthly returns series for (1.30 * decile portfolio 9 - 0.3*decile portfolio 9 )\n",
    "ret_130_30.mean()\n",
    "\n"
   ]
  },
  {
   "cell_type": "code",
   "execution_count": null,
   "metadata": {
    "colab": {
     "base_uri": "https://localhost:8080/"
    },
    "id": "N8t3O02l81Cl",
    "outputId": "38b2501f-1842-4820-9a09-57e56de2ae15"
   },
   "outputs": [
    {
     "data": {
      "text/plain": [
       "0.8635155329678398"
      ]
     },
     "execution_count": 11,
     "metadata": {},
     "output_type": "execute_result"
    }
   ],
   "source": [
    "# Sharpe Ratio for 130/30 portfolio\n",
    "Sharpe_130_30_annual = np.sqrt(12) * ret_130_30.mean()/ret_130_30.std()\n",
    "Sharpe_130_30_annual"
   ]
  },
  {
   "cell_type": "markdown",
   "metadata": {
    "id": "yZFbXXcyyHCS"
   },
   "source": [
    "What is the market sharpe ratio (annualized) over the 198001-202212 period?"
   ]
  }
 ],
 "metadata": {
  "colab": {
   "provenance": []
  },
  "kernelspec": {
   "display_name": "Python 3 (ipykernel)",
   "language": "python",
   "name": "python3"
  },
  "language_info": {
   "codemirror_mode": {
    "name": "ipython",
    "version": 3
   },
   "file_extension": ".py",
   "mimetype": "text/x-python",
   "name": "python",
   "nbconvert_exporter": "python",
   "pygments_lexer": "ipython3",
   "version": "3.12.2"
  }
 },
 "nbformat": 4,
 "nbformat_minor": 4
}
