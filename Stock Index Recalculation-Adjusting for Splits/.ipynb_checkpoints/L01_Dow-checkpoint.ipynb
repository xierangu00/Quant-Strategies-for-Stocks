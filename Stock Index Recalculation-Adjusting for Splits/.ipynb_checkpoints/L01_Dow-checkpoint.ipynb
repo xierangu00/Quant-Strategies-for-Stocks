{
 "cells": [
  {
   "cell_type": "markdown",
   "metadata": {
    "id": "5iekbB6m8QlO"
   },
   "source": [
    "**Lecture 1**\n",
    "\n",
    "Compute Dow Jones Index using data from Yahoo Finance .\n",
    "\n"
   ]
  },
  {
   "cell_type": "code",
   "execution_count": 40,
   "metadata": {
    "colab": {
     "base_uri": "https://localhost:8080/"
    },
    "id": "XZ3lfbFRRwgc",
    "outputId": "28611963-f7f9-4455-eafe-e9c46956a33f"
   },
   "outputs": [
    {
     "name": "stdout",
     "output_type": "stream",
     "text": [
      "Requirement already satisfied: yfinance in /opt/anaconda3/envs/myenv/lib/python3.12/site-packages (0.2.43)\n",
      "Requirement already satisfied: pandas>=1.3.0 in /opt/anaconda3/envs/myenv/lib/python3.12/site-packages (from yfinance) (2.2.2)\n",
      "Requirement already satisfied: numpy>=1.16.5 in /opt/anaconda3/envs/myenv/lib/python3.12/site-packages (from yfinance) (1.26.4)\n",
      "Requirement already satisfied: requests>=2.31 in /opt/anaconda3/envs/myenv/lib/python3.12/site-packages (from yfinance) (2.32.3)\n",
      "Requirement already satisfied: multitasking>=0.0.7 in /opt/anaconda3/envs/myenv/lib/python3.12/site-packages (from yfinance) (0.0.9)\n",
      "Requirement already satisfied: lxml>=4.9.1 in /opt/anaconda3/envs/myenv/lib/python3.12/site-packages (from yfinance) (5.2.2)\n",
      "Requirement already satisfied: platformdirs>=2.0.0 in /opt/anaconda3/envs/myenv/lib/python3.12/site-packages (from yfinance) (3.10.0)\n",
      "Requirement already satisfied: pytz>=2022.5 in /opt/anaconda3/envs/myenv/lib/python3.12/site-packages (from yfinance) (2024.1)\n",
      "Requirement already satisfied: frozendict>=2.3.4 in /opt/anaconda3/envs/myenv/lib/python3.12/site-packages (from yfinance) (2.4.4)\n",
      "Requirement already satisfied: peewee>=3.16.2 in /opt/anaconda3/envs/myenv/lib/python3.12/site-packages (from yfinance) (3.17.6)\n",
      "Requirement already satisfied: beautifulsoup4>=4.11.1 in /opt/anaconda3/envs/myenv/lib/python3.12/site-packages (from yfinance) (4.12.3)\n",
      "Requirement already satisfied: html5lib>=1.1 in /opt/anaconda3/envs/myenv/lib/python3.12/site-packages (from yfinance) (1.1)\n",
      "Requirement already satisfied: soupsieve>1.2 in /opt/anaconda3/envs/myenv/lib/python3.12/site-packages (from beautifulsoup4>=4.11.1->yfinance) (2.5)\n",
      "Requirement already satisfied: six>=1.9 in /opt/anaconda3/envs/myenv/lib/python3.12/site-packages (from html5lib>=1.1->yfinance) (1.16.0)\n",
      "Requirement already satisfied: webencodings in /opt/anaconda3/envs/myenv/lib/python3.12/site-packages (from html5lib>=1.1->yfinance) (0.5.1)\n",
      "Requirement already satisfied: python-dateutil>=2.8.2 in /opt/anaconda3/envs/myenv/lib/python3.12/site-packages (from pandas>=1.3.0->yfinance) (2.9.0.post0)\n",
      "Requirement already satisfied: tzdata>=2022.7 in /opt/anaconda3/envs/myenv/lib/python3.12/site-packages (from pandas>=1.3.0->yfinance) (2024.1)\n",
      "Requirement already satisfied: charset-normalizer<4,>=2 in /opt/anaconda3/envs/myenv/lib/python3.12/site-packages (from requests>=2.31->yfinance) (3.3.2)\n",
      "Requirement already satisfied: idna<4,>=2.5 in /opt/anaconda3/envs/myenv/lib/python3.12/site-packages (from requests>=2.31->yfinance) (3.7)\n",
      "Requirement already satisfied: urllib3<3,>=1.21.1 in /opt/anaconda3/envs/myenv/lib/python3.12/site-packages (from requests>=2.31->yfinance) (2.2.2)\n",
      "Requirement already satisfied: certifi>=2017.4.17 in /opt/anaconda3/envs/myenv/lib/python3.12/site-packages (from requests>=2.31->yfinance) (2024.8.30)\n"
     ]
    }
   ],
   "source": [
    "# Installing yfinance package\n",
    "!pip install yfinance"
   ]
  },
  {
   "cell_type": "code",
   "execution_count": 41,
   "metadata": {
    "id": "cmh_wfy9XO39"
   },
   "outputs": [],
   "source": [
    "# Importing necessary libraries\n",
    "import numpy as np\n",
    "import pandas as pd\n",
    "import yfinance as yf\n",
    "import datetime\n",
    "from datetime import date\n",
    "from datetime import timedelta"
   ]
  },
  {
   "cell_type": "markdown",
   "metadata": {
    "id": "FzNNofCAoXCU"
   },
   "source": [
    "Import  the list of stocks in the Dow Jones Index"
   ]
  },
  {
   "cell_type": "code",
   "execution_count": 42,
   "metadata": {
    "colab": {
     "base_uri": "https://localhost:8080/",
     "height": 1000
    },
    "id": "p0ErF7LNXl3A",
    "outputId": "736dbe5a-6015-434a-b845-fad2271f133a"
   },
   "outputs": [
    {
     "name": "stdout",
     "output_type": "stream",
     "text": [
      "******************************************\n",
      "Constituent Stocks of Dow Jones Index\n"
     ]
    },
    {
     "data": {
      "text/html": [
       "<div>\n",
       "<style scoped>\n",
       "    .dataframe tbody tr th:only-of-type {\n",
       "        vertical-align: middle;\n",
       "    }\n",
       "\n",
       "    .dataframe tbody tr th {\n",
       "        vertical-align: top;\n",
       "    }\n",
       "\n",
       "    .dataframe thead th {\n",
       "        text-align: right;\n",
       "    }\n",
       "</style>\n",
       "<table border=\"1\" class=\"dataframe\">\n",
       "  <thead>\n",
       "    <tr style=\"text-align: right;\">\n",
       "      <th></th>\n",
       "      <th>Ticker</th>\n",
       "      <th>Name</th>\n",
       "    </tr>\n",
       "  </thead>\n",
       "  <tbody>\n",
       "    <tr>\n",
       "      <th>0</th>\n",
       "      <td>AMZN</td>\n",
       "      <td>Amazon.com Inc</td>\n",
       "    </tr>\n",
       "    <tr>\n",
       "      <th>1</th>\n",
       "      <td>AXP</td>\n",
       "      <td>American Express Company</td>\n",
       "    </tr>\n",
       "    <tr>\n",
       "      <th>2</th>\n",
       "      <td>AMGN</td>\n",
       "      <td>Amgen Inc</td>\n",
       "    </tr>\n",
       "    <tr>\n",
       "      <th>3</th>\n",
       "      <td>AAPL</td>\n",
       "      <td>Apple Inc.</td>\n",
       "    </tr>\n",
       "    <tr>\n",
       "      <th>4</th>\n",
       "      <td>BA</td>\n",
       "      <td>Boeing Company (The)</td>\n",
       "    </tr>\n",
       "    <tr>\n",
       "      <th>5</th>\n",
       "      <td>CAT</td>\n",
       "      <td>Caterpillar, Inc.</td>\n",
       "    </tr>\n",
       "    <tr>\n",
       "      <th>6</th>\n",
       "      <td>CSCO</td>\n",
       "      <td>Cisco Systems, Inc.</td>\n",
       "    </tr>\n",
       "    <tr>\n",
       "      <th>7</th>\n",
       "      <td>CVX</td>\n",
       "      <td>Chevron Corporation</td>\n",
       "    </tr>\n",
       "    <tr>\n",
       "      <th>8</th>\n",
       "      <td>GS</td>\n",
       "      <td>Goldman Sachs Group, Inc. (The)</td>\n",
       "    </tr>\n",
       "    <tr>\n",
       "      <th>9</th>\n",
       "      <td>HD</td>\n",
       "      <td>Home Depot, Inc. (The)</td>\n",
       "    </tr>\n",
       "    <tr>\n",
       "      <th>10</th>\n",
       "      <td>HON</td>\n",
       "      <td>Honeywell International Inc</td>\n",
       "    </tr>\n",
       "    <tr>\n",
       "      <th>11</th>\n",
       "      <td>IBM</td>\n",
       "      <td>International Business Machines</td>\n",
       "    </tr>\n",
       "    <tr>\n",
       "      <th>12</th>\n",
       "      <td>JNJ</td>\n",
       "      <td>Johnson &amp; Johnson</td>\n",
       "    </tr>\n",
       "    <tr>\n",
       "      <th>13</th>\n",
       "      <td>KO</td>\n",
       "      <td>Coca-Cola Company (The)</td>\n",
       "    </tr>\n",
       "    <tr>\n",
       "      <th>14</th>\n",
       "      <td>JPM</td>\n",
       "      <td>JP Morgan Chase &amp; Co.</td>\n",
       "    </tr>\n",
       "    <tr>\n",
       "      <th>15</th>\n",
       "      <td>MCD</td>\n",
       "      <td>McDonald's Corporation</td>\n",
       "    </tr>\n",
       "    <tr>\n",
       "      <th>16</th>\n",
       "      <td>MMM</td>\n",
       "      <td>3M Company</td>\n",
       "    </tr>\n",
       "    <tr>\n",
       "      <th>17</th>\n",
       "      <td>MRK</td>\n",
       "      <td>Merck &amp; Company, Inc.  (new)</td>\n",
       "    </tr>\n",
       "    <tr>\n",
       "      <th>18</th>\n",
       "      <td>MSFT</td>\n",
       "      <td>Microsoft Corporation</td>\n",
       "    </tr>\n",
       "    <tr>\n",
       "      <th>19</th>\n",
       "      <td>NKE</td>\n",
       "      <td>Nike, Inc.</td>\n",
       "    </tr>\n",
       "    <tr>\n",
       "      <th>20</th>\n",
       "      <td>PG</td>\n",
       "      <td>Procter &amp; Gamble Company (The)</td>\n",
       "    </tr>\n",
       "    <tr>\n",
       "      <th>21</th>\n",
       "      <td>SHW</td>\n",
       "      <td>Sherwin-Williams Co</td>\n",
       "    </tr>\n",
       "    <tr>\n",
       "      <th>22</th>\n",
       "      <td>TRV</td>\n",
       "      <td>The Travelers Companies, Inc.</td>\n",
       "    </tr>\n",
       "    <tr>\n",
       "      <th>23</th>\n",
       "      <td>UNH</td>\n",
       "      <td>UnitedHealth Group Incorporated</td>\n",
       "    </tr>\n",
       "    <tr>\n",
       "      <th>24</th>\n",
       "      <td>CRM</td>\n",
       "      <td>Salesforce Inc</td>\n",
       "    </tr>\n",
       "    <tr>\n",
       "      <th>25</th>\n",
       "      <td>NVDA</td>\n",
       "      <td>NVDIA corp</td>\n",
       "    </tr>\n",
       "    <tr>\n",
       "      <th>26</th>\n",
       "      <td>VZ</td>\n",
       "      <td>Verizon Communications Inc.</td>\n",
       "    </tr>\n",
       "    <tr>\n",
       "      <th>27</th>\n",
       "      <td>V</td>\n",
       "      <td>Visa Inc.</td>\n",
       "    </tr>\n",
       "    <tr>\n",
       "      <th>28</th>\n",
       "      <td>WMT</td>\n",
       "      <td>Wal-Mart Stores, Inc.</td>\n",
       "    </tr>\n",
       "    <tr>\n",
       "      <th>29</th>\n",
       "      <td>DIS</td>\n",
       "      <td>Walt Disney Company (The)</td>\n",
       "    </tr>\n",
       "  </tbody>\n",
       "</table>\n",
       "</div>"
      ],
      "text/plain": [
       "   Ticker                             Name\n",
       "0    AMZN                   Amazon.com Inc\n",
       "1     AXP         American Express Company\n",
       "2    AMGN                        Amgen Inc\n",
       "3    AAPL                       Apple Inc.\n",
       "4      BA             Boeing Company (The)\n",
       "5     CAT                Caterpillar, Inc.\n",
       "6    CSCO              Cisco Systems, Inc.\n",
       "7     CVX              Chevron Corporation\n",
       "8      GS  Goldman Sachs Group, Inc. (The)\n",
       "9      HD           Home Depot, Inc. (The)\n",
       "10    HON      Honeywell International Inc\n",
       "11    IBM  International Business Machines\n",
       "12    JNJ                Johnson & Johnson\n",
       "13     KO          Coca-Cola Company (The)\n",
       "14    JPM            JP Morgan Chase & Co.\n",
       "15    MCD           McDonald's Corporation\n",
       "16    MMM                       3M Company\n",
       "17    MRK     Merck & Company, Inc.  (new)\n",
       "18   MSFT            Microsoft Corporation\n",
       "19    NKE                       Nike, Inc.\n",
       "20     PG   Procter & Gamble Company (The)\n",
       "21    SHW              Sherwin-Williams Co\n",
       "22    TRV    The Travelers Companies, Inc.\n",
       "23    UNH  UnitedHealth Group Incorporated\n",
       "24    CRM                   Salesforce Inc\n",
       "25   NVDA                       NVDIA corp\n",
       "26     VZ      Verizon Communications Inc.\n",
       "27      V                        Visa Inc.\n",
       "28    WMT            Wal-Mart Stores, Inc.\n",
       "29    DIS        Walt Disney Company (The)"
      ]
     },
     "execution_count": 42,
     "metadata": {},
     "output_type": "execute_result"
    }
   ],
   "source": [
    "# reading excel file containing the constituent stocks in the Dow Index\n",
    "DowJonesStocks = pd.read_excel('Dow_20241117.xlsx') \n",
    "\n",
    "print(\"******************************************\")\n",
    "print(\"Constituent Stocks of Dow Jones Index\" )\n",
    "DowJonesStocks\n"
   ]
  },
  {
   "cell_type": "code",
   "execution_count": 43,
   "metadata": {
    "colab": {
     "base_uri": "https://localhost:8080/"
    },
    "id": "cSSse2_IQD8K",
    "outputId": "fc9dbb2f-48d5-4e7a-aec8-b3bb10f24ca0"
   },
   "outputs": [
    {
     "name": "stdout",
     "output_type": "stream",
     "text": [
      "************************************************************************************\n",
      "List of stocks whose data is going to be downloaded from Yahoo Finance Website are \n"
     ]
    },
    {
     "data": {
      "text/plain": [
       "['AMZN',\n",
       " 'AXP',\n",
       " 'AMGN',\n",
       " 'AAPL',\n",
       " 'BA',\n",
       " 'CAT',\n",
       " 'CSCO',\n",
       " 'CVX',\n",
       " 'GS',\n",
       " 'HD',\n",
       " 'HON',\n",
       " 'IBM',\n",
       " 'JNJ',\n",
       " 'KO',\n",
       " 'JPM',\n",
       " 'MCD',\n",
       " 'MMM',\n",
       " 'MRK',\n",
       " 'MSFT',\n",
       " 'NKE',\n",
       " 'PG',\n",
       " 'SHW',\n",
       " 'TRV',\n",
       " 'UNH',\n",
       " 'CRM',\n",
       " 'NVDA',\n",
       " 'VZ',\n",
       " 'V',\n",
       " 'WMT',\n",
       " 'DIS']"
      ]
     },
     "execution_count": 43,
     "metadata": {},
     "output_type": "execute_result"
    }
   ],
   "source": [
    "# Compiling all stock symbols in a list\n",
    "stocks_list = list(DowJonesStocks.Ticker) # passing the symbols to the stocks_list , this list will be input for yfinance data call\n",
    "print(\"************************************************************************************\")\n",
    "print(\"List of stocks whose data is going to be downloaded from Yahoo Finance Website are \" )\n",
    "stocks_list"
   ]
  },
  {
   "cell_type": "code",
   "execution_count": 44,
   "metadata": {
    "colab": {
     "base_uri": "https://localhost:8080/",
     "height": 328
    },
    "id": "X94XxGE9YT6J",
    "outputId": "9ef93bbf-d26a-4915-cca7-031f7790cfbe"
   },
   "outputs": [
    {
     "name": "stderr",
     "output_type": "stream",
     "text": [
      "[*********************100%***********************]  30 of 30 completed\n",
      "\n",
      "30 Failed downloads:\n",
      "['CSCO', 'DIS', 'NVDA', 'MMM', 'PG', 'SHW', 'AXP', 'HON', 'WMT', 'JPM', 'CVX', 'MRK', 'CAT', 'KO', 'TRV', 'GS', 'V', 'HD', 'NKE', 'CRM', 'AMGN', 'IBM', 'JNJ', 'MCD', 'BA', 'AAPL', 'AMZN', 'MSFT', 'VZ', 'UNH']: JSONDecodeError('Expecting value: line 1 column 1 (char 0)')\n"
     ]
    },
    {
     "name": "stdout",
     "output_type": "stream",
     "text": [
      "Dataset imported using yfinance library\n",
      "******************************************\n"
     ]
    },
    {
     "data": {
      "text/html": [
       "<div>\n",
       "<style scoped>\n",
       "    .dataframe tbody tr th:only-of-type {\n",
       "        vertical-align: middle;\n",
       "    }\n",
       "\n",
       "    .dataframe tbody tr th {\n",
       "        vertical-align: top;\n",
       "    }\n",
       "\n",
       "    .dataframe thead th {\n",
       "        text-align: right;\n",
       "    }\n",
       "</style>\n",
       "<table border=\"1\" class=\"dataframe\">\n",
       "  <thead>\n",
       "    <tr style=\"text-align: right;\">\n",
       "      <th>Ticker</th>\n",
       "      <th>AAPL</th>\n",
       "      <th>AMGN</th>\n",
       "      <th>AMZN</th>\n",
       "      <th>AXP</th>\n",
       "      <th>BA</th>\n",
       "      <th>CAT</th>\n",
       "      <th>CRM</th>\n",
       "      <th>CSCO</th>\n",
       "      <th>CVX</th>\n",
       "      <th>DIS</th>\n",
       "      <th>...</th>\n",
       "      <th>MSFT</th>\n",
       "      <th>NKE</th>\n",
       "      <th>NVDA</th>\n",
       "      <th>PG</th>\n",
       "      <th>SHW</th>\n",
       "      <th>TRV</th>\n",
       "      <th>UNH</th>\n",
       "      <th>V</th>\n",
       "      <th>VZ</th>\n",
       "      <th>WMT</th>\n",
       "    </tr>\n",
       "    <tr>\n",
       "      <th>Date</th>\n",
       "      <th></th>\n",
       "      <th></th>\n",
       "      <th></th>\n",
       "      <th></th>\n",
       "      <th></th>\n",
       "      <th></th>\n",
       "      <th></th>\n",
       "      <th></th>\n",
       "      <th></th>\n",
       "      <th></th>\n",
       "      <th></th>\n",
       "      <th></th>\n",
       "      <th></th>\n",
       "      <th></th>\n",
       "      <th></th>\n",
       "      <th></th>\n",
       "      <th></th>\n",
       "      <th></th>\n",
       "      <th></th>\n",
       "      <th></th>\n",
       "      <th></th>\n",
       "    </tr>\n",
       "  </thead>\n",
       "  <tbody>\n",
       "  </tbody>\n",
       "</table>\n",
       "<p>0 rows × 30 columns</p>\n",
       "</div>"
      ],
      "text/plain": [
       "Empty DataFrame\n",
       "Columns: [AAPL, AMGN, AMZN, AXP, BA, CAT, CRM, CSCO, CVX, DIS, GS, HD, HON, IBM, JNJ, JPM, KO, MCD, MMM, MRK, MSFT, NKE, NVDA, PG, SHW, TRV, UNH, V, VZ, WMT]\n",
       "Index: []\n",
       "\n",
       "[0 rows x 30 columns]"
      ]
     },
     "execution_count": 44,
     "metadata": {},
     "output_type": "execute_result"
    }
   ],
   "source": [
    "# Importing data from yahoo finance server\n",
    "d = datetime.timedelta(days = 5)                                               #get data for the last 10 days\n",
    "data = yf.download(stocks_list, start=date.today()- d, end=date.today()) ##getting prices data using yfinance library\n",
    "print(\"Dataset imported using yfinance library\" )\n",
    "print(\"******************************************\")\n",
    "data[\"Close\"]"
   ]
  },
  {
   "cell_type": "code",
   "execution_count": 45,
   "metadata": {
    "colab": {
     "base_uri": "https://localhost:8080/",
     "height": 1000
    },
    "id": "hLOJtpX_RWqp",
    "outputId": "30f5e07a-2c1e-4fc3-e1b0-e5b4fac323e2"
   },
   "outputs": [
    {
     "name": "stdout",
     "output_type": "stream",
     "text": [
      "******************************************\n",
      "Most Recent Close Price Dataset of all stocks\n",
      "******************************************\n"
     ]
    },
    {
     "ename": "IndexError",
     "evalue": "single positional indexer is out-of-bounds",
     "output_type": "error",
     "traceback": [
      "\u001b[0;31m---------------------------------------------------------------------------\u001b[0m",
      "\u001b[0;31mIndexError\u001b[0m                                Traceback (most recent call last)",
      "Cell \u001b[0;32mIn[45], line 4\u001b[0m\n\u001b[1;32m      2\u001b[0m \u001b[38;5;28mprint\u001b[39m(\u001b[38;5;124m\"\u001b[39m\u001b[38;5;124mMost Recent Close Price Dataset of all stocks\u001b[39m\u001b[38;5;124m\"\u001b[39m )\n\u001b[1;32m      3\u001b[0m \u001b[38;5;28mprint\u001b[39m(\u001b[38;5;124m\"\u001b[39m\u001b[38;5;124m******************************************\u001b[39m\u001b[38;5;124m\"\u001b[39m)\n\u001b[0;32m----> 4\u001b[0m Price \u001b[38;5;241m=\u001b[39m data[\u001b[38;5;124m'\u001b[39m\u001b[38;5;124mClose\u001b[39m\u001b[38;5;124m'\u001b[39m]\u001b[38;5;241m.\u001b[39miloc[\u001b[38;5;241m-\u001b[39m\u001b[38;5;241m1\u001b[39m] \u001b[38;5;66;03m#extracting last available Close Price for each stock\u001b[39;00m\n\u001b[1;32m      5\u001b[0m Price\n",
      "File \u001b[0;32m/opt/anaconda3/envs/myenv/lib/python3.12/site-packages/pandas/core/indexing.py:1191\u001b[0m, in \u001b[0;36m_LocationIndexer.__getitem__\u001b[0;34m(self, key)\u001b[0m\n\u001b[1;32m   1189\u001b[0m maybe_callable \u001b[38;5;241m=\u001b[39m com\u001b[38;5;241m.\u001b[39mapply_if_callable(key, \u001b[38;5;28mself\u001b[39m\u001b[38;5;241m.\u001b[39mobj)\n\u001b[1;32m   1190\u001b[0m maybe_callable \u001b[38;5;241m=\u001b[39m \u001b[38;5;28mself\u001b[39m\u001b[38;5;241m.\u001b[39m_check_deprecated_callable_usage(key, maybe_callable)\n\u001b[0;32m-> 1191\u001b[0m \u001b[38;5;28;01mreturn\u001b[39;00m \u001b[38;5;28mself\u001b[39m\u001b[38;5;241m.\u001b[39m_getitem_axis(maybe_callable, axis\u001b[38;5;241m=\u001b[39maxis)\n",
      "File \u001b[0;32m/opt/anaconda3/envs/myenv/lib/python3.12/site-packages/pandas/core/indexing.py:1752\u001b[0m, in \u001b[0;36m_iLocIndexer._getitem_axis\u001b[0;34m(self, key, axis)\u001b[0m\n\u001b[1;32m   1749\u001b[0m     \u001b[38;5;28;01mraise\u001b[39;00m \u001b[38;5;167;01mTypeError\u001b[39;00m(\u001b[38;5;124m\"\u001b[39m\u001b[38;5;124mCannot index by location index with a non-integer key\u001b[39m\u001b[38;5;124m\"\u001b[39m)\n\u001b[1;32m   1751\u001b[0m \u001b[38;5;66;03m# validate the location\u001b[39;00m\n\u001b[0;32m-> 1752\u001b[0m \u001b[38;5;28mself\u001b[39m\u001b[38;5;241m.\u001b[39m_validate_integer(key, axis)\n\u001b[1;32m   1754\u001b[0m \u001b[38;5;28;01mreturn\u001b[39;00m \u001b[38;5;28mself\u001b[39m\u001b[38;5;241m.\u001b[39mobj\u001b[38;5;241m.\u001b[39m_ixs(key, axis\u001b[38;5;241m=\u001b[39maxis)\n",
      "File \u001b[0;32m/opt/anaconda3/envs/myenv/lib/python3.12/site-packages/pandas/core/indexing.py:1685\u001b[0m, in \u001b[0;36m_iLocIndexer._validate_integer\u001b[0;34m(self, key, axis)\u001b[0m\n\u001b[1;32m   1683\u001b[0m len_axis \u001b[38;5;241m=\u001b[39m \u001b[38;5;28mlen\u001b[39m(\u001b[38;5;28mself\u001b[39m\u001b[38;5;241m.\u001b[39mobj\u001b[38;5;241m.\u001b[39m_get_axis(axis))\n\u001b[1;32m   1684\u001b[0m \u001b[38;5;28;01mif\u001b[39;00m key \u001b[38;5;241m>\u001b[39m\u001b[38;5;241m=\u001b[39m len_axis \u001b[38;5;129;01mor\u001b[39;00m key \u001b[38;5;241m<\u001b[39m \u001b[38;5;241m-\u001b[39mlen_axis:\n\u001b[0;32m-> 1685\u001b[0m     \u001b[38;5;28;01mraise\u001b[39;00m \u001b[38;5;167;01mIndexError\u001b[39;00m(\u001b[38;5;124m\"\u001b[39m\u001b[38;5;124msingle positional indexer is out-of-bounds\u001b[39m\u001b[38;5;124m\"\u001b[39m)\n",
      "\u001b[0;31mIndexError\u001b[0m: single positional indexer is out-of-bounds"
     ]
    }
   ],
   "source": [
    "print(\"******************************************\")\n",
    "print(\"Most Recent Close Price Dataset of all stocks\" )\n",
    "print(\"******************************************\")\n",
    "Price = data['Close'].iloc[-1] #extracting last available Close Price for each stock\n",
    "Price"
   ]
  },
  {
   "cell_type": "code",
   "execution_count": 46,
   "metadata": {
    "colab": {
     "base_uri": "https://localhost:8080/"
    },
    "id": "io93AnyvYdVg",
    "outputId": "a66fb0c5-d9aa-4242-c1de-1bd5b274f9be"
   },
   "outputs": [
    {
     "ename": "NameError",
     "evalue": "name 'Price' is not defined",
     "output_type": "error",
     "traceback": [
      "\u001b[0;31m---------------------------------------------------------------------------\u001b[0m",
      "\u001b[0;31mNameError\u001b[0m                                 Traceback (most recent call last)",
      "Cell \u001b[0;32mIn[46], line 3\u001b[0m\n\u001b[1;32m      1\u001b[0m \u001b[38;5;66;03m# Dow Jones Industrial Average (Dow Jones ndex) Calculation\u001b[39;00m\n\u001b[1;32m      2\u001b[0m dowDivisor \u001b[38;5;241m=\u001b[39m \u001b[38;5;241m0.16268413\u001b[39m \u001b[38;5;66;03m#Most recent divisor for Dow Jones\u001b[39;00m\n\u001b[0;32m----> 3\u001b[0m dowIndex \u001b[38;5;241m=\u001b[39m Price\u001b[38;5;241m.\u001b[39msum()\u001b[38;5;241m/\u001b[39mdowDivisor \u001b[38;5;66;03m# Formula for calculating Dow Jones Index\u001b[39;00m\n\u001b[1;32m      4\u001b[0m \u001b[38;5;28mprint\u001b[39m(\u001b[38;5;124m\"\u001b[39m\u001b[38;5;124m************************************************************\u001b[39m\u001b[38;5;124m\"\u001b[39m)\n\u001b[1;32m      5\u001b[0m \u001b[38;5;28mprint\u001b[39m(\u001b[38;5;124m\"\u001b[39m\u001b[38;5;124mMost Recent value of the Dow Index : \u001b[39m\u001b[38;5;124m\"\u001b[39m \u001b[38;5;241m+\u001b[39m \u001b[38;5;28mstr\u001b[39m(dowIndex) )\n",
      "\u001b[0;31mNameError\u001b[0m: name 'Price' is not defined"
     ]
    }
   ],
   "source": [
    "# Dow Jones Industrial Average (Dow Jones ndex) Calculation\n",
    "dowDivisor = 0.16268413 #Most recent divisor for Dow Jones\n",
    "dowIndex = Price.sum()/dowDivisor # Formula for calculating Dow Jones Index\n",
    "print(\"************************************************************\")\n",
    "print(\"Most Recent value of the Dow Index : \" + str(dowIndex) )\n",
    "print(\"************************************************************\")\n"
   ]
  },
  {
   "cell_type": "code",
   "execution_count": 47,
   "metadata": {
    "colab": {
     "base_uri": "https://localhost:8080/",
     "height": 1000
    },
    "id": "Tnie2iZW2LDw",
    "outputId": "bb4e5236-296c-43f2-d9b0-35fe75cbc39a"
   },
   "outputs": [
    {
     "ename": "NameError",
     "evalue": "name 'Price' is not defined",
     "output_type": "error",
     "traceback": [
      "\u001b[0;31m---------------------------------------------------------------------------\u001b[0m",
      "\u001b[0;31mNameError\u001b[0m                                 Traceback (most recent call last)",
      "Cell \u001b[0;32mIn[47], line 2\u001b[0m\n\u001b[1;32m      1\u001b[0m \u001b[38;5;66;03m# Weight Calculation of each stock in the Dow Jones Index\u001b[39;00m\n\u001b[0;32m----> 2\u001b[0m weights \u001b[38;5;241m=\u001b[39m Price\u001b[38;5;241m/\u001b[39mPrice\u001b[38;5;241m.\u001b[39msum() \u001b[38;5;66;03m# Weight of each stock in the Index\u001b[39;00m\n\u001b[1;32m      4\u001b[0m \u001b[38;5;28mprint\u001b[39m(\u001b[38;5;124m\"\u001b[39m\u001b[38;5;124m*************************************************\u001b[39m\u001b[38;5;124m\"\u001b[39m)\n\u001b[1;32m      5\u001b[0m \u001b[38;5;28mprint\u001b[39m(\u001b[38;5;124m\"\u001b[39m\u001b[38;5;124mWeights of the stocks in the Index Portfolio : \u001b[39m\u001b[38;5;124m\"\u001b[39m )\n",
      "\u001b[0;31mNameError\u001b[0m: name 'Price' is not defined"
     ]
    }
   ],
   "source": [
    "# Weight Calculation of each stock in the Dow Jones Index\n",
    "weights = Price/Price.sum() # Weight of each stock in the Index\n",
    "\n",
    "print(\"*************************************************\")\n",
    "print(\"Weights of the stocks in the Index Portfolio : \" )\n",
    "print(\"*************************************************\")\n",
    "weights"
   ]
  },
  {
   "cell_type": "markdown",
   "metadata": {
    "id": "TWiIU2Xq-_E1"
   },
   "source": [
    "Suppose the dollar value of the portfolio equals today's DOW index. What is the portfolio weight for each component stock?"
   ]
  },
  {
   "cell_type": "code",
   "execution_count": 48,
   "metadata": {
    "colab": {
     "base_uri": "https://localhost:8080/",
     "height": 1000
    },
    "id": "mXGRnnsq_yuO",
    "outputId": "610d3ebd-1179-42d7-80ea-2c93a46e458c"
   },
   "outputs": [
    {
     "ename": "NameError",
     "evalue": "name 'weights' is not defined",
     "output_type": "error",
     "traceback": [
      "\u001b[0;31m---------------------------------------------------------------------------\u001b[0m",
      "\u001b[0;31mNameError\u001b[0m                                 Traceback (most recent call last)",
      "Cell \u001b[0;32mIn[48], line 3\u001b[0m\n\u001b[1;32m      1\u001b[0m \u001b[38;5;66;03m# Portfolio Value = most recent dowindex\u001b[39;00m\n\u001b[1;32m      2\u001b[0m \u001b[38;5;66;03m#  Dollar Value of each stock in the index\u001b[39;00m\n\u001b[0;32m----> 3\u001b[0m dollar_value \u001b[38;5;241m=\u001b[39m weights\u001b[38;5;241m*\u001b[39mdowIndex\n\u001b[1;32m      4\u001b[0m \u001b[38;5;28mprint\u001b[39m(\u001b[38;5;124m\"\u001b[39m\u001b[38;5;124m******************************************************\u001b[39m\u001b[38;5;124m\"\u001b[39m)\n\u001b[1;32m      5\u001b[0m \u001b[38;5;28mprint\u001b[39m(\u001b[38;5;124m\"\u001b[39m\u001b[38;5;124mDollar Value of the stocks in the Index : \u001b[39m\u001b[38;5;124m\"\u001b[39m )\n",
      "\u001b[0;31mNameError\u001b[0m: name 'weights' is not defined"
     ]
    }
   ],
   "source": [
    "# Portfolio Value = most recent dowindex\n",
    "#  Dollar Value of each stock in the index\n",
    "dollar_value = weights*dowIndex\n",
    "print(\"******************************************************\")\n",
    "print(\"Dollar Value of the stocks in the Index : \" )\n",
    "print(\"******************************************************\")\n",
    "dollar_value"
   ]
  },
  {
   "cell_type": "markdown",
   "metadata": {
    "id": "bxxNfD9v_HIj"
   },
   "source": [
    "How many  shares of each stock will you buy to track the index?"
   ]
  },
  {
   "cell_type": "code",
   "execution_count": 49,
   "metadata": {
    "colab": {
     "base_uri": "https://localhost:8080/",
     "height": 1000
    },
    "id": "64I17wFwALh1",
    "outputId": "c8781560-43c8-4a42-f8f6-f2b7591fea9e"
   },
   "outputs": [
    {
     "ename": "NameError",
     "evalue": "name 'dollar_value' is not defined",
     "output_type": "error",
     "traceback": [
      "\u001b[0;31m---------------------------------------------------------------------------\u001b[0m",
      "\u001b[0;31mNameError\u001b[0m                                 Traceback (most recent call last)",
      "Cell \u001b[0;32mIn[49], line 2\u001b[0m\n\u001b[1;32m      1\u001b[0m \u001b[38;5;66;03m# Number of shares of stocks in the Index\u001b[39;00m\n\u001b[0;32m----> 2\u001b[0m NumberOfShares \u001b[38;5;241m=\u001b[39m dollar_value\u001b[38;5;241m/\u001b[39mPrice\n\u001b[1;32m      3\u001b[0m \u001b[38;5;28mprint\u001b[39m(\u001b[38;5;124m\"\u001b[39m\u001b[38;5;124m******************************************************\u001b[39m\u001b[38;5;124m\"\u001b[39m)\n\u001b[1;32m      4\u001b[0m \u001b[38;5;28mprint\u001b[39m(\u001b[38;5;124m\"\u001b[39m\u001b[38;5;124mNumber of shares of stocks in the Dow Jones Index : \u001b[39m\u001b[38;5;124m\"\u001b[39m )\n",
      "\u001b[0;31mNameError\u001b[0m: name 'dollar_value' is not defined"
     ]
    }
   ],
   "source": [
    "# Number of shares of stocks in the Index\n",
    "NumberOfShares = dollar_value/Price\n",
    "print(\"******************************************************\")\n",
    "print(\"Number of shares of stocks in the Dow Jones Index : \" )\n",
    "print(\"******************************************************\")\n",
    "NumberOfShares"
   ]
  },
  {
   "cell_type": "markdown",
   "metadata": {
    "id": "TrtIT_WwIUeW"
   },
   "source": [
    "Intuitively explain why the tracking portfolio buys equal number of each stock."
   ]
  },
  {
   "cell_type": "markdown",
   "metadata": {
    "id": "mIZmoKg96Rre"
   },
   "source": [
    "**Q1. What is the return on the Dow Jones index on the most recent date?**\n",
    "Dow_Jones yesterday on data[close].iloc[-2]\n"
   ]
  },
  {
   "cell_type": "markdown",
   "metadata": {
    "id": "MdlC3uoAAPsK"
   },
   "source": [
    "Suppose Walmart would go ex-split (2 for 1) after market-close today.\n",
    "(a) What would be the ex-split price of Walmart?\n",
    "(b) What would be the ex-split value of Dow?\n",
    "(c) What is the new divisor?"
   ]
  },
  {
   "cell_type": "code",
   "execution_count": 50,
   "metadata": {
    "id": "WPOuPCWF49lU"
   },
   "outputs": [
    {
     "ename": "NameError",
     "evalue": "name 'Price' is not defined",
     "output_type": "error",
     "traceback": [
      "\u001b[0;31m---------------------------------------------------------------------------\u001b[0m",
      "\u001b[0;31mNameError\u001b[0m                                 Traceback (most recent call last)",
      "Cell \u001b[0;32mIn[50], line 2\u001b[0m\n\u001b[1;32m      1\u001b[0m \u001b[38;5;66;03m#data.index\u001b[39;00m\n\u001b[0;32m----> 2\u001b[0m Price_exSplit \u001b[38;5;241m=\u001b[39m Price\u001b[38;5;241m.\u001b[39mcopy()\n\u001b[1;32m      3\u001b[0m WMT_ex_splitPrice \u001b[38;5;241m=\u001b[39m Price_exSplit[\u001b[38;5;124m'\u001b[39m\u001b[38;5;124mWMT\u001b[39m\u001b[38;5;124m'\u001b[39m]\u001b[38;5;241m/\u001b[39m\u001b[38;5;241m2\u001b[39m\n\u001b[1;32m      4\u001b[0m Price_exSplit[\u001b[38;5;124m'\u001b[39m\u001b[38;5;124mWMT\u001b[39m\u001b[38;5;124m'\u001b[39m] \u001b[38;5;241m=\u001b[39m WMT_ex_splitPrice\n",
      "\u001b[0;31mNameError\u001b[0m: name 'Price' is not defined"
     ]
    }
   ],
   "source": [
    "#data.index\n",
    "Price_exSplit = Price.copy()\n",
    "WMT_ex_splitPrice = Price_exSplit['WMT']/2\n",
    "Price_exSplit['WMT'] = WMT_ex_splitPrice\n",
    "#data.columns"
   ]
  },
  {
   "cell_type": "code",
   "execution_count": 13,
   "metadata": {
    "colab": {
     "base_uri": "https://localhost:8080/",
     "height": 1000
    },
    "id": "FVz5Vby55HLu",
    "outputId": "381e5f19-08ab-4583-9b52-e0f083e6c29d"
   },
   "outputs": [
    {
     "data": {
      "text/plain": [
       "Ticker\n",
       "AAPL    236.000000\n",
       "AMGN    285.420013\n",
       "AMZN    237.679993\n",
       "AXP     317.450012\n",
       "BA      176.520004\n",
       "CAT     371.440002\n",
       "CRM     341.700012\n",
       "CSCO     60.599998\n",
       "CVX     149.190002\n",
       "DIS     113.059998\n",
       "GS      640.400024\n",
       "HD      411.980011\n",
       "HON     223.720001\n",
       "IBM     255.699997\n",
       "JNJ     152.149994\n",
       "JPM     267.299988\n",
       "KO       63.480000\n",
       "MCD     288.700012\n",
       "MMM     152.199997\n",
       "MRK      98.820000\n",
       "MSFT    415.059998\n",
       "NKE      76.900002\n",
       "NVDA    120.070000\n",
       "PG      165.990005\n",
       "SHW     358.160004\n",
       "TRV     245.179993\n",
       "UNH     542.489990\n",
       "V       341.799988\n",
       "VZ       39.389999\n",
       "WMT      49.080002\n",
       "Name: 2025-01-31 00:00:00+00:00, dtype: float64"
      ]
     },
     "execution_count": 13,
     "metadata": {},
     "output_type": "execute_result"
    }
   ],
   "source": [
    "Price_exSplit"
   ]
  },
  {
   "cell_type": "code",
   "execution_count": 14,
   "metadata": {
    "colab": {
     "base_uri": "https://localhost:8080/"
    },
    "id": "spqrtjsK5Y9E",
    "outputId": "52143878-d0fa-4347-cc35-e4ab861d8a58"
   },
   "outputs": [
    {
     "name": "stdout",
     "output_type": "stream",
     "text": [
      "Dow_exSplit 44242.98 pre-split Dow 44544.66\n"
     ]
    }
   ],
   "source": [
    "#dowIndex_ex-split = Price.sum()/dowDivisor # Formula for calculating Dow Jones Index\n",
    "Dow_exSplit = Price_exSplit.sum()/dowDivisor\n",
    "print('Dow_exSplit', round(Dow_exSplit,2), 'pre-split Dow', round(dowIndex,2))"
   ]
  },
  {
   "cell_type": "code",
   "execution_count": 15,
   "metadata": {
    "colab": {
     "base_uri": "https://localhost:8080/"
    },
    "id": "_c8o7KvK5ndD",
    "outputId": "4a0c4015-760a-4c07-bc32-036568fa6ee5"
   },
   "outputs": [
    {
     "data": {
      "text/plain": [
       "0.16158231450675434"
      ]
     },
     "execution_count": 15,
     "metadata": {},
     "output_type": "execute_result"
    }
   ],
   "source": [
    "new_divisor = Price_exSplit.sum() / dowIndex\n",
    "new_divisor"
   ]
  }
 ],
 "metadata": {
  "colab": {
   "provenance": []
  },
  "kernelspec": {
   "display_name": "Python 3 (ipykernel)",
   "language": "python",
   "name": "python3"
  },
  "language_info": {
   "codemirror_mode": {
    "name": "ipython",
    "version": 3
   },
   "file_extension": ".py",
   "mimetype": "text/x-python",
   "name": "python",
   "nbconvert_exporter": "python",
   "pygments_lexer": "ipython3",
   "version": "3.12.2"
  }
 },
 "nbformat": 4,
 "nbformat_minor": 4
}
